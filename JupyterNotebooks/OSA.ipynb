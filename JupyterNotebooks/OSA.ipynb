{
 "cells": [
  {
   "cell_type": "markdown",
   "metadata": {},
   "source": [
    "# OSA"
   ]
  },
  {
   "cell_type": "code",
   "execution_count": 10,
   "metadata": {},
   "outputs": [
    {
     "name": "stdout",
     "output_type": "stream",
     "text": [
      "N:\\Experiments\\InstrumentControl\n",
      "['N:/Experiments/InstrumentControl/pyOSA/OSA_Jupyter.py', '(350,', '1750)']\n",
      "[350.0, 1750.0]\n"
     ]
    },
    {
     "data": {
      "application/vnd.jupyter.widget-view+json": {
       "model_id": "569e4c338dde4e3a9ddff50ccb0cfcd3",
       "version_major": 2,
       "version_minor": 0
      },
      "text/plain": [
       "HBox(children=(Box(children=(Checkbox(value=False, description='Connected'), Text(value='10.0.0.11', descripti…"
      ]
     },
     "metadata": {},
     "output_type": "display_data"
    },
    {
     "data": {
      "text/html": [
       "<style>.osa_scan_button button{\n",
       "\n",
       "    margin: 0px;\n",
       "\n",
       "    padding: 0px;\n",
       "\n",
       "    width: 70px;\n",
       "\n",
       "}\n",
       "\n",
       ".osa_scan_button label{\n",
       "\n",
       "    margin: 0px;\n",
       "\n",
       "    padding: 0px;\n",
       "\n",
       "    width: 0px;\n",
       "\n",
       "}\n",
       "\n",
       "\n",
       "\n",
       ".osa_marker{\n",
       "\n",
       "    margin-left = 0px;\n",
       "\n",
       "    padding: 0px;\n",
       "\n",
       "    width: 70px;\n",
       "\n",
       "}\n",
       "\n",
       "\n",
       "\n",
       ".osa_clear{\n",
       "\n",
       "    margin-left: 92px;\n",
       "\n",
       "    width:195px\n",
       "\n",
       "    margin-top:50px;\n",
       "\n",
       "}\n",
       "\n",
       "\n",
       "\n",
       "\n",
       "\n",
       ".widget-gridbox{\n",
       "\n",
       "    max-width:100%;\n",
       "\n",
       "    display: inline-block;\n",
       "\n",
       "}\n",
       "\n",
       "\n",
       "\n",
       ".widget-html > .widget-html-content, .widget-htmlmath > .widget-html-content {\n",
       "\n",
       "    width: 150px;\n",
       "\n",
       "    max-width: 150px;\n",
       "\n",
       "    display: inline-block;\n",
       "\n",
       "    overflow: hidden;\n",
       "\n",
       "    white-space: nowrap;\n",
       "\n",
       "    margin-left: 0px;\n",
       "\n",
       "    text-overflow: ellipsis;\n",
       "\n",
       "    float: left;\n",
       "\n",
       "}\n",
       "\n",
       "\n",
       "\n",
       "\n",
       "\n",
       ".lm-Widget .p-Widget .jupyter-widgets .widget-inline-hbox .widget-html > span{\n",
       "\n",
       "    max-width: 150px;\n",
       "\n",
       "    display: inline-block;\n",
       "\n",
       "    overflow: hidden;\n",
       "\n",
       "    white-space: nowrap;\n",
       "\n",
       "    text-overflow: clip;\n",
       "\n",
       "    float: left;\n",
       "\n",
       "    text-overflow: clip;\n",
       "\n",
       "    position: relative;\n",
       "\n",
       "}\n",
       "\n",
       "\n",
       "\n",
       ".osa_save{\n",
       "\n",
       "    margin-left: 92px;\n",
       "\n",
       "    width:195px;\n",
       "\n",
       "    margin-top: 50px;\n",
       "\n",
       "\n",
       "\n",
       "}\n",
       "</style>"
      ],
      "text/plain": [
       "<IPython.core.display.HTML object>"
      ]
     },
     "execution_count": 10,
     "metadata": {},
     "output_type": "execute_result"
    }
   ],
   "source": [
    "\n",
    "fname = r\"N:/Experiments/InstrumentControl/pyOSA/OSA_Jupyter.py\"\n",
    "# fname = r\"/Volumes/GoogleDrive/My Drive/Work/ExperimentalSetup/PythonSoftware/InstrumentControl/pyOSA/OSA_Jupyter.py\"\n",
    "\n",
    "xlim = [350, 1750]\n",
    "\n",
    "\n",
    "\n",
    "%run \"$fname\" {xlim[0], xlim[1]}\n",
    "with open('N:/Experiments/InstrumentControl/pyOSA/OSA_Jupyter.css', 'r') as fid:\n",
    "# with open('/Volumes/GoogleDrive/My Drive/Work/ExperimentalSetup/PythonSoftware/InstrumentControl/pyOSA/OSA_Jupyter.css', 'r') as fid:\n",
    "    css = fid.readlines()\n",
    "    css = '\\n'.join(css)\n",
    "HTML('<style>' + css + '</style>')"
   ]
  },
  {
   "cell_type": "code",
   "execution_count": 2,
   "metadata": {},
   "outputs": [
    {
     "data": {
      "text/plain": [
       "'N:\\\\Experiments\\\\Users\\\\Greg\\\\UsefulScripts'"
      ]
     },
     "execution_count": 2,
     "metadata": {},
     "output_type": "execute_result"
    }
   ],
   "source": [
    "pwd"
   ]
  },
  {
   "cell_type": "code",
   "execution_count": null,
   "metadata": {},
   "outputs": [],
   "source": []
  }
 ],
 "metadata": {
  "kernelspec": {
   "display_name": "Python 3",
   "language": "python",
   "name": "python3"
  },
  "language_info": {
   "codemirror_mode": {
    "name": "ipython",
    "version": 3
   },
   "file_extension": ".py",
   "mimetype": "text/x-python",
   "name": "python",
   "nbconvert_exporter": "python",
   "pygments_lexer": "ipython3",
   "version": "3.7.6"
  }
 },
 "nbformat": 4,
 "nbformat_minor": 4
}
