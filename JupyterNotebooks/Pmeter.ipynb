{
 "cells": [
  {
   "cell_type": "markdown",
   "metadata": {},
   "source": [
    "# Pmeter"
   ]
  },
  {
   "cell_type": "code",
   "execution_count": 1,
   "metadata": {},
   "outputs": [
    {
     "name": "stderr",
     "output_type": "stream",
     "text": [
      "C:\\Users\\nphoton\\anaconda3\\lib\\site-packages\\visa.py:23: FutureWarning: The visa module provided by PyVISA is being deprecated. You can replace `import visa` by `import pyvisa as visa` to achieve the same effect.\n",
      "\n",
      "The reason for the deprecation is the possible conflict with the visa package provided by the https://github.com/visa-sdk/visa-python which can result in hard to debug situations.\n",
      "  FutureWarning,\n"
     ]
    },
    {
     "name": "stdout",
     "output_type": "stream",
     "text": [
      "G:\\My Drive\\Work\\ExperimentalSetup\\PythonSoftware\\InstrumentControl\n"
     ]
    },
    {
     "data": {
      "text/html": [
       "<style>div.balanced-text .widget-label {max-width:200px; width:200px}"
      ],
      "text/plain": [
       "<IPython.core.display.HTML object>"
      ]
     },
     "metadata": {},
     "output_type": "display_data"
    },
    {
     "data": {
      "application/vnd.jupyter.widget-view+json": {
       "model_id": "5cda638f91524225bd6a985bb63b037e",
       "version_major": 2,
       "version_minor": 0
      },
      "text/plain": [
       "VBox(children=(Checkbox(value=True, description='Running', _dom_classes=('ui_running',)), HBox(children=(VBox(…"
      ]
     },
     "metadata": {},
     "output_type": "display_data"
    },
    {
     "data": {
      "text/html": [
       "<style>.ui_running{\n",
       "\n",
       "    color: grey;\n",
       "\n",
       "    font-size: 30px;\n",
       "\n",
       "    font-family: monaco;\n",
       "\n",
       "    min-height: 35px;\n",
       "\n",
       "    max-height: 35px;\n",
       "\n",
       "    margin-left: 0px;\n",
       "\n",
       "}\n",
       "\n",
       "\n",
       "\n",
       ".ui_running .widget-label{\n",
       "\n",
       "    max-width:0px;\n",
       "\n",
       "    min-width:0px;\n",
       "\n",
       "}\n",
       "\n",
       "\n",
       "\n",
       ".ui_running input{\n",
       "\n",
       "    zoom: 1.5;\n",
       "\n",
       "}\n",
       "\n",
       "\n",
       "\n",
       ".ui_running span{\n",
       "\n",
       "    color: grey;\n",
       "\n",
       "    font-size: 20px;\n",
       "\n",
       "    font-family: monaco;\n",
       "\n",
       "}\n",
       "\n",
       "\n",
       "\n",
       ".ui_label_title {\n",
       "\n",
       "    color: grey;\n",
       "\n",
       "    font-size: 30px;\n",
       "\n",
       "    font-family: monaco;\n",
       "\n",
       "    min-height: 35px;\n",
       "\n",
       "    max-height: 35px;\n",
       "\n",
       "}\n",
       "\n",
       "\n",
       "\n",
       ".ui_label_losses {\n",
       "\n",
       "    color: grey;\n",
       "\n",
       "    font-size: 30px;\n",
       "\n",
       "    font-family: monaco;\n",
       "\n",
       "    min-height: 150px;\n",
       "\n",
       "    max-height: 150px;\n",
       "\n",
       "    margin-left: 10px;\n",
       "\n",
       "    display: flex;\n",
       "\n",
       "    justify-content: left;\n",
       "\n",
       "    align-items: flex-end;\n",
       "\n",
       "}\n",
       "\n",
       "\n",
       "\n",
       "\n",
       "\n",
       ".ui_power > input[type=\"text\"] {\n",
       "\n",
       "    font-size: 50px;\n",
       "\n",
       "    color: #b5291f;\n",
       "\n",
       "    font-family: monaco;\n",
       "\n",
       "    min-height: 120px;\n",
       "\n",
       "    max-height: 120px;\n",
       "\n",
       "    text-align: right;\n",
       "\n",
       "    margin-left: 10px;\n",
       "\n",
       "}\n",
       "\n",
       "\n",
       "\n",
       ".ui_det select{\n",
       "\n",
       "    min-height: 120px;\n",
       "\n",
       "    max-height: 120px;\n",
       "\n",
       "    margin-left: 10px;\n",
       "\n",
       "}\n",
       "\n",
       "\n",
       "\n",
       "\n",
       "\n",
       ".ui_cnct{\n",
       "\n",
       "    min-height: 32px;\n",
       "\n",
       "    max-height: 32px;\n",
       "\n",
       "    height: 42px;\n",
       "\n",
       "#     margin: 0px;\n",
       "\n",
       "#     margin-bottom: 10px;\n",
       "\n",
       "    padding: px;\n",
       "\n",
       "    margin-left: 10px;\n",
       "\n",
       "}\n",
       "\n",
       ".ui_prgs{\n",
       "\n",
       "    min-height: 42px;\n",
       "\n",
       "    max-height: 42px;\n",
       "\n",
       "    height: 42px;\n",
       "\n",
       "    margin-left: 10px;\n",
       "\n",
       "    padding-right: 10px;\n",
       "\n",
       "}\n",
       "\n",
       "\n",
       "\n",
       "\n",
       "\n",
       ".ui_wlgth{\n",
       "\n",
       "    min-height: 160px;\n",
       "\n",
       "    max-height: 160px;\n",
       "\n",
       "}\n",
       "\n",
       ".ui_wlgth .slider-container{\n",
       "\n",
       "    min-height: 100px;\n",
       "\n",
       "    max-height: 100px;\n",
       "\n",
       "}\n",
       "</style>"
      ],
      "text/plain": [
       "<IPython.core.display.HTML object>"
      ]
     },
     "execution_count": 1,
     "metadata": {},
     "output_type": "execute_result"
    }
   ],
   "source": [
    "%run \"G:/My Drive/Work/ExperimentalSetup/PythonSoftware/InstrumentControl/RpiPoweMeter/Pmeter_Jupyter.py\"\n",
    "with open('G:/My Drive/Work/ExperimentalSetup/PythonSoftware/InstrumentControl/RpiPoweMeter/pmeter.css', 'r') as fid:\n",
    "    css = fid.readlines()\n",
    "    css = '\\n'.join(css)\n",
    "HTML('<style>' + css + '</style>')"
   ]
  },
  {
   "cell_type": "code",
   "execution_count": 3,
   "metadata": {},
   "outputs": [
    {
     "ename": "ImportError",
     "evalue": "cannot import name 'Bristol' from 'pyWavemeter' (G:\\My Drive\\Work\\ExperimentalSetup\\PythonSoftware\\InstrumentControl\\pyWavemeter\\__init__.py)",
     "output_type": "error",
     "traceback": [
      "\u001b[1;31m---------------------------------------------------------------------------\u001b[0m",
      "\u001b[1;31mImportError\u001b[0m                               Traceback (most recent call last)",
      "\u001b[1;32m<ipython-input-3-c96bef77bfc8>\u001b[0m in \u001b[0;36m<module>\u001b[1;34m\u001b[0m\n\u001b[0;32m      2\u001b[0m \u001b[1;32mif\u001b[0m \u001b[1;32mnot\u001b[0m \u001b[0mpath\u001b[0m \u001b[1;32min\u001b[0m \u001b[0msys\u001b[0m\u001b[1;33m.\u001b[0m\u001b[0mpath\u001b[0m\u001b[1;33m:\u001b[0m\u001b[1;33m\u001b[0m\u001b[1;33m\u001b[0m\u001b[0m\n\u001b[0;32m      3\u001b[0m     \u001b[0msys\u001b[0m\u001b[1;33m.\u001b[0m\u001b[0mpath\u001b[0m\u001b[1;33m.\u001b[0m\u001b[0minsert\u001b[0m\u001b[1;33m(\u001b[0m\u001b[1;36m0\u001b[0m\u001b[1;33m,\u001b[0m \u001b[0mpath\u001b[0m\u001b[1;33m)\u001b[0m\u001b[1;33m\u001b[0m\u001b[1;33m\u001b[0m\u001b[0m\n\u001b[1;32m----> 4\u001b[1;33m \u001b[1;32mfrom\u001b[0m \u001b[0mpyWavemeter\u001b[0m \u001b[1;32mimport\u001b[0m \u001b[0mBristol\u001b[0m\u001b[1;33m\u001b[0m\u001b[1;33m\u001b[0m\u001b[0m\n\u001b[0m",
      "\u001b[1;31mImportError\u001b[0m: cannot import name 'Bristol' from 'pyWavemeter' (G:\\My Drive\\Work\\ExperimentalSetup\\PythonSoftware\\InstrumentControl\\pyWavemeter\\__init__.py)"
     ]
    },
    {
     "name": "stderr",
     "output_type": "stream",
     "text": [
      "Exception in thread Thread-4:\n",
      "Traceback (most recent call last):\n",
      "  File \"C:\\ProgramData\\Anaconda3\\lib\\threading.py\", line 926, in _bootstrap_inner\n",
      "    self.run()\n",
      "  File \"C:\\ProgramData\\Anaconda3\\lib\\threading.py\", line 870, in run\n",
      "    self._target(*self._args, **self._kwargs)\n",
      "  File \"G:\\My Drive\\Work\\ExperimentalSetup\\PythonSoftware\\InstrumentControl\\RpiPoweMeter\\Pmeter_Jupyter.py\", line 156, in work\n",
      "    Loss.value = '{:.3f} dB'.format(10*np.log10(outP/inP))\n",
      "ZeroDivisionError: float division by zero\n",
      "\n"
     ]
    }
   ],
   "source": [
    "path = os.path.realpath(r'G:/My Drive/Work/ExperimentalSetup/PythonSoftware/InstrumentControl')\n",
    "if not path in sys.path:\n",
    "sys.path.insert(0, path)\n",
    "from pyWavemeter import Bristol\n"
   ]
  },
  {
   "cell_type": "code",
   "execution_count": null,
   "metadata": {},
   "outputs": [],
   "source": []
  }
 ],
 "metadata": {
  "kernelspec": {
   "display_name": "Python 3",
   "language": "python",
   "name": "python3"
  },
  "language_info": {
   "codemirror_mode": {
    "name": "ipython",
    "version": 3
   },
   "file_extension": ".py",
   "mimetype": "text/x-python",
   "name": "python",
   "nbconvert_exporter": "python",
   "pygments_lexer": "ipython3",
   "version": "3.7.6"
  }
 },
 "nbformat": 4,
 "nbformat_minor": 4
}
